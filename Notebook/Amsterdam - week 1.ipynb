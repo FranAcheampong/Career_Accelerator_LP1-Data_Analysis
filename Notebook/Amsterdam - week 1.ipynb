{
 "cells": [
  {
   "cell_type": "markdown",
   "id": "9947aaff",
   "metadata": {},
   "source": [
    "# GROUP AMSTERDAM "
   ]
  },
  {
   "cell_type": "markdown",
   "id": "9b8743d4",
   "metadata": {},
   "source": [
    "# Project Title: Understanding the Indian Start-up Ecosystem: Analysis and Recommendations"
   ]
  },
  {
   "cell_type": "markdown",
   "id": "27de4077",
   "metadata": {},
   "source": [
    "# Project Description: This project aims to provide insights into the Indian start-up ecosystem, including its current state, trends, and potential opportunities for growth. Through data analysis and visualization, we aim to identify key areas of focus for our team to enter the market and make a significant impact."
   ]
  },
  {
   "cell_type": "markdown",
   "id": "332f5cba",
   "metadata": {},
   "source": [
    "# Questions: \n",
    "## 1. What is the current state of the Indian startup ecosystem?\n",
    "## 2. What are the key sectors that have seen significant growth in terms of funding and   investment?\n",
    "## 3. Which cities in India are the key hubs for startups?\n",
    "## 4. What are the trends in terms of funding rounds for Indian startups?\n",
    "## 5. How have the COVID-19 pandemic affected the Indian startup ecosystem?"
   ]
  },
  {
   "cell_type": "markdown",
   "id": "8f93fea6",
   "metadata": {},
   "source": [
    "# Hypothesis\n",
    "## 1. The Indian startup ecosystem is on the rise and is attracting significant investment from both domestic and foreign investors.\n",
    "## 2. The technology sector is the most significant sector in terms of funding and investment.\n",
    "## 3. Bengaluru is the primary hub for startups in India, followed by Mumbai and Delhi-NCR.\n",
    "## 4. The number of early-stage funding rounds has increased significantly in recent years.\n",
    "## 5. The COVID-19 pandemic has had a significant impact on the Indian startup ecosystem, with some sectors benefiting more than others.\n"
   ]
  },
  {
   "cell_type": "code",
   "execution_count": 2,
   "id": "e3d31998",
   "metadata": {},
   "outputs": [],
   "source": [
    "import pandas as pd \n",
    "import numpy as np \n",
    "from scipy import stats \n",
    "import statistics as stat\n",
    "import matplotlib.pyplot as plt \n",
    "import seaborn as sns"
   ]
  },
  {
   "cell_type": "code",
   "execution_count": 4,
   "id": "91a3761a",
   "metadata": {},
   "outputs": [
    {
     "data": {
      "text/html": [
       "<div>\n",
       "<style scoped>\n",
       "    .dataframe tbody tr th:only-of-type {\n",
       "        vertical-align: middle;\n",
       "    }\n",
       "\n",
       "    .dataframe tbody tr th {\n",
       "        vertical-align: top;\n",
       "    }\n",
       "\n",
       "    .dataframe thead th {\n",
       "        text-align: right;\n",
       "    }\n",
       "</style>\n",
       "<table border=\"1\" class=\"dataframe\">\n",
       "  <thead>\n",
       "    <tr style=\"text-align: right;\">\n",
       "      <th></th>\n",
       "      <th>Company/Brand</th>\n",
       "      <th>Founded</th>\n",
       "      <th>HeadQuarter</th>\n",
       "      <th>Sector</th>\n",
       "      <th>What it does</th>\n",
       "      <th>Founders</th>\n",
       "      <th>Investor</th>\n",
       "      <th>Amount($)</th>\n",
       "      <th>Stage</th>\n",
       "      <th>Unnamed: 9</th>\n",
       "    </tr>\n",
       "  </thead>\n",
       "  <tbody>\n",
       "    <tr>\n",
       "      <th>0</th>\n",
       "      <td>Aqgromalin</td>\n",
       "      <td>2019</td>\n",
       "      <td>Chennai</td>\n",
       "      <td>AgriTech</td>\n",
       "      <td>Cultivating Ideas for Profit</td>\n",
       "      <td>Prasanna Manogaran, Bharani C L</td>\n",
       "      <td>Angel investors</td>\n",
       "      <td>$200,000</td>\n",
       "      <td>NaN</td>\n",
       "      <td>NaN</td>\n",
       "    </tr>\n",
       "    <tr>\n",
       "      <th>1</th>\n",
       "      <td>Krayonnz</td>\n",
       "      <td>2019</td>\n",
       "      <td>Bangalore</td>\n",
       "      <td>EdTech</td>\n",
       "      <td>An academy-guardian-scholar centric ecosystem ...</td>\n",
       "      <td>Saurabh Dixit, Gurudutt Upadhyay</td>\n",
       "      <td>GSF Accelerator</td>\n",
       "      <td>$100,000</td>\n",
       "      <td>Pre-seed</td>\n",
       "      <td>NaN</td>\n",
       "    </tr>\n",
       "    <tr>\n",
       "      <th>2</th>\n",
       "      <td>PadCare Labs</td>\n",
       "      <td>2018</td>\n",
       "      <td>Pune</td>\n",
       "      <td>Hygiene management</td>\n",
       "      <td>Converting bio-hazardous waste to harmless waste</td>\n",
       "      <td>Ajinkya Dhariya</td>\n",
       "      <td>Venture Center</td>\n",
       "      <td>Undisclosed</td>\n",
       "      <td>Pre-seed</td>\n",
       "      <td>NaN</td>\n",
       "    </tr>\n",
       "    <tr>\n",
       "      <th>3</th>\n",
       "      <td>NCOME</td>\n",
       "      <td>2020</td>\n",
       "      <td>New Delhi</td>\n",
       "      <td>Escrow</td>\n",
       "      <td>Escrow-as-a-service platform</td>\n",
       "      <td>Ritesh Tiwari</td>\n",
       "      <td>Venture Catalysts, PointOne Capital</td>\n",
       "      <td>$400,000</td>\n",
       "      <td>NaN</td>\n",
       "      <td>NaN</td>\n",
       "    </tr>\n",
       "    <tr>\n",
       "      <th>4</th>\n",
       "      <td>Gramophone</td>\n",
       "      <td>2016</td>\n",
       "      <td>Indore</td>\n",
       "      <td>AgriTech</td>\n",
       "      <td>Gramophone is an AgTech platform enabling acce...</td>\n",
       "      <td>Ashish Rajan Singh, Harshit Gupta, Nishant Mah...</td>\n",
       "      <td>Siana Capital Management, Info Edge</td>\n",
       "      <td>$340,000</td>\n",
       "      <td>NaN</td>\n",
       "      <td>NaN</td>\n",
       "    </tr>\n",
       "  </tbody>\n",
       "</table>\n",
       "</div>"
      ],
      "text/plain": [
       "  Company/Brand Founded HeadQuarter              Sector  \\\n",
       "0    Aqgromalin    2019     Chennai            AgriTech   \n",
       "1      Krayonnz    2019   Bangalore              EdTech   \n",
       "2  PadCare Labs    2018        Pune  Hygiene management   \n",
       "3         NCOME    2020   New Delhi              Escrow   \n",
       "4    Gramophone    2016      Indore            AgriTech   \n",
       "\n",
       "                                        What it does  \\\n",
       "0                       Cultivating Ideas for Profit   \n",
       "1  An academy-guardian-scholar centric ecosystem ...   \n",
       "2   Converting bio-hazardous waste to harmless waste   \n",
       "3                       Escrow-as-a-service platform   \n",
       "4  Gramophone is an AgTech platform enabling acce...   \n",
       "\n",
       "                                            Founders  \\\n",
       "0                    Prasanna Manogaran, Bharani C L   \n",
       "1                   Saurabh Dixit, Gurudutt Upadhyay   \n",
       "2                                    Ajinkya Dhariya   \n",
       "3                                      Ritesh Tiwari   \n",
       "4  Ashish Rajan Singh, Harshit Gupta, Nishant Mah...   \n",
       "\n",
       "                              Investor    Amount($)     Stage Unnamed: 9  \n",
       "0                      Angel investors     $200,000       NaN        NaN  \n",
       "1                      GSF Accelerator     $100,000  Pre-seed        NaN  \n",
       "2                       Venture Center  Undisclosed  Pre-seed        NaN  \n",
       "3  Venture Catalysts, PointOne Capital     $400,000       NaN        NaN  \n",
       "4  Siana Capital Management, Info Edge     $340,000       NaN        NaN  "
      ]
     },
     "execution_count": 4,
     "metadata": {},
     "output_type": "execute_result"
    }
   ],
   "source": [
    "data=pd.read_csv('startup_funding2021.csv')\n",
    "data.head()"
   ]
  },
  {
   "cell_type": "code",
   "execution_count": null,
   "id": "73f629f9",
   "metadata": {},
   "outputs": [],
   "source": []
  }
 ],
 "metadata": {
  "kernelspec": {
   "display_name": "Python 3",
   "language": "python",
   "name": "python3"
  },
  "language_info": {
   "codemirror_mode": {
    "name": "ipython",
    "version": 3
   },
   "file_extension": ".py",
   "mimetype": "text/x-python",
   "name": "python",
   "nbconvert_exporter": "python",
   "pygments_lexer": "ipython3",
   "version": "3.8.8"
  }
 },
 "nbformat": 4,
 "nbformat_minor": 5
}
